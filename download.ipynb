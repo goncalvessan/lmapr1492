{
 "cells": [
  {
   "cell_type": "code",
   "execution_count": 39,
   "metadata": {},
   "outputs": [],
   "source": [
    "from pymatgen.ext.matproj import MPRester\n",
    "from pymatgen.io.cif import CifWriter"
   ]
  },
  {
   "cell_type": "code",
   "execution_count": 40,
   "metadata": {},
   "outputs": [],
   "source": [
    "with MPRester(\"TcDpUTe7wLxFMs0t\") as m:\n",
    "\n",
    "    # Structure for material id\n",
    "    structure = m.get_structure_by_material_id(\"mp-675349\")"
   ]
  },
  {
   "cell_type": "code",
   "execution_count": 41,
   "metadata": {},
   "outputs": [
    {
     "data": {
      "text/plain": [
       "Structure Summary\n",
       "Lattice\n",
       "    abc : 4.09842299 4.098423147892949 6.41445601\n",
       " angles : 90.0 90.0 119.99999864488029\n",
       " volume : 93.3091092444826\n",
       "      A : 4.09842299 0.0 0.0\n",
       "      B : -2.04921149 3.54933861 0.0\n",
       "      C : 0.0 0.0 6.41445601\n",
       "PeriodicSite: Dy (0.0000, 0.0000, 3.2751) [0.0000, 0.0000, 0.5106]\n",
       "PeriodicSite: Cu (2.0492, 1.1831, 0.8507) [0.6667, 0.3333, 0.1326]\n",
       "PeriodicSite: Se (-0.0000, 2.3662, 1.5062) [0.3333, 0.6667, 0.2348]\n",
       "PeriodicSite: Se (2.0492, 1.1831, 4.7985) [0.6667, 0.3333, 0.7481]"
      ]
     },
     "execution_count": 41,
     "metadata": {},
     "output_type": "execute_result"
    }
   ],
   "source": [
    "structure"
   ]
  },
  {
   "cell_type": "code",
   "execution_count": 42,
   "metadata": {},
   "outputs": [],
   "source": [
    "CifWriter(struct=structure, symprec=1e-5).write_file('DyCuSe2.cif')"
   ]
  },
  {
   "cell_type": "code",
   "execution_count": null,
   "metadata": {},
   "outputs": [],
   "source": []
  }
 ],
 "metadata": {
  "kernelspec": {
   "display_name": "Python 3",
   "language": "python",
   "name": "python3"
  },
  "language_info": {
   "codemirror_mode": {
    "name": "ipython",
    "version": 3
   },
   "file_extension": ".py",
   "mimetype": "text/x-python",
   "name": "python",
   "nbconvert_exporter": "python",
   "pygments_lexer": "ipython3",
   "version": "3.6.8"
  }
 },
 "nbformat": 4,
 "nbformat_minor": 2
}
