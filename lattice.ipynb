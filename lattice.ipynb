{
 "cells": [
  {
   "cell_type": "code",
   "execution_count": 51,
   "metadata": {},
   "outputs": [],
   "source": [
    "from pymatgen.ext.matproj import MPRester\n",
    "from pymatgen.io.cif import CifWriter\n",
    "from pymatgen.symmetry.analyzer import SpacegroupAnalyzer\n",
    "from pymatgen.core.lattice import Lattice"
   ]
  },
  {
   "cell_type": "code",
   "execution_count": 52,
   "metadata": {},
   "outputs": [],
   "source": [
    "with MPRester(\"TcDpUTe7wLxFMs0t\") as m:\n",
    "    # Structure for material id\n",
    "    structure = m.get_structure_by_material_id(\"mp-675349\")\n"
   ]
  },
  {
   "cell_type": "code",
   "execution_count": 53,
   "metadata": {},
   "outputs": [
    {
     "data": {
      "text/plain": [
       "Structure Summary\n",
       "Lattice\n",
       "    abc : 4.09842299 4.098423147892949 6.41445601\n",
       " angles : 90.0 90.0 119.99999864488029\n",
       " volume : 93.3091092444826\n",
       "      A : 4.09842299 0.0 0.0\n",
       "      B : -2.04921149 3.54933861 0.0\n",
       "      C : 0.0 0.0 6.41445601\n",
       "PeriodicSite: Dy (0.0000, 0.0000, 3.2751) [0.0000, 0.0000, 0.5106]\n",
       "PeriodicSite: Cu (2.0492, 1.1831, 0.8507) [0.6667, 0.3333, 0.1326]\n",
       "PeriodicSite: Se (-0.0000, 2.3662, 1.5062) [0.3333, 0.6667, 0.2348]\n",
       "PeriodicSite: Se (2.0492, 1.1831, 4.7985) [0.6667, 0.3333, 0.7481]"
      ]
     },
     "execution_count": 53,
     "metadata": {},
     "output_type": "execute_result"
    }
   ],
   "source": [
    "structure"
   ]
  },
  {
   "cell_type": "code",
   "execution_count": 54,
   "metadata": {},
   "outputs": [],
   "source": [
    "VectDirect = structure.lattice"
   ]
  },
  {
   "cell_type": "code",
   "execution_count": 55,
   "metadata": {},
   "outputs": [],
   "source": [
    "#Les vecteurs de base du réseau direct sont :\n",
    "#A = [4.09842299, 0.0, 0.0]\n",
    "#B = [-2.04921149, 3.54933861, 0.0]\n",
    "#C = [0.0, 0.0, 6.41445601]"
   ]
  },
  {
   "cell_type": "code",
   "execution_count": 56,
   "metadata": {},
   "outputs": [
    {
     "data": {
      "text/plain": [
       "Lattice\n",
       "    abc : 1.7702412307292217 1.770241162530161 0.9795351776338063\n",
       " angles : 90.0 90.0 60.00000135511973\n",
       " volume : 2.6583708220005957\n",
       "      A : 1.5330738975723894 0.885120579105419 0.0\n",
       "      B : 0.0 1.770241162530161 0.0\n",
       "      C : 0.0 0.0 0.9795351776338063"
      ]
     },
     "execution_count": 56,
     "metadata": {},
     "output_type": "execute_result"
    }
   ],
   "source": [
    "RecLat=structure.lattice.reciprocal_lattice\n",
    "RecLat"
   ]
  },
  {
   "cell_type": "code",
   "execution_count": 57,
   "metadata": {},
   "outputs": [],
   "source": [
    "#Les vecteurs de base du réseau réciproque sont:\n",
    "#A = [1.5330738975723894, 0.885120579105419, 0.0] \n",
    "#B = [0.0, 1.770241162530161, 0.0]\n",
    "#C = [0.0, 0.0, 0.9795351776338063]"
   ]
  },
  {
   "cell_type": "code",
   "execution_count": 58,
   "metadata": {},
   "outputs": [],
   "source": [
    "SpaceGroupAnal = SpacegroupAnalyzer(structure)\n",
    "SystCrist = SpaceGroupAnal.get_crystal_system()\n",
    "Maille = SpaceGroupAnal.get_lattice_type()\n",
    "GroupePonct = SpaceGroupAnal.get_point_group_symbol()"
   ]
  },
  {
   "cell_type": "code",
   "execution_count": 59,
   "metadata": {},
   "outputs": [
    {
     "data": {
      "text/plain": [
       "'trigonal'"
      ]
     },
     "execution_count": 59,
     "metadata": {},
     "output_type": "execute_result"
    }
   ],
   "source": [
    " SystCrist"
   ]
  },
  {
   "cell_type": "code",
   "execution_count": 60,
   "metadata": {},
   "outputs": [
    {
     "data": {
      "text/plain": [
       "'hexagonal'"
      ]
     },
     "execution_count": 60,
     "metadata": {},
     "output_type": "execute_result"
    }
   ],
   "source": [
    "Maille"
   ]
  },
  {
   "cell_type": "code",
   "execution_count": 61,
   "metadata": {},
   "outputs": [
    {
     "data": {
      "text/plain": [
       "'3m'"
      ]
     },
     "execution_count": 61,
     "metadata": {},
     "output_type": "execute_result"
    }
   ],
   "source": [
    "GroupePonct"
   ]
  },
  {
   "cell_type": "code",
   "execution_count": 62,
   "metadata": {},
   "outputs": [
    {
     "name": "stdout",
     "output_type": "stream",
     "text": [
      "Les vecteurs de base sont du réseau direct sont:\n",
      "4.098423 0.000000 0.000000\n",
      "-2.049211 3.549339 0.000000\n",
      "0.000000 0.000000 6.414456\n",
      "Les vecteurs de base sont du réseau réciproque sont:\n",
      "1.533074 0.885121 0.000000\n",
      "0.000000 1.770241 0.000000\n",
      "0.000000 0.000000 0.979535\n",
      "Système Cristallin:\n",
      "trigonal\n",
      "Type de maille:\n",
      "hexagonal\n",
      "Groupe ponctuel:\n",
      "3m\n"
     ]
    }
   ],
   "source": [
    "print('Les vecteurs de base sont du réseau direct sont:')\n",
    "print(VectDirect)\n",
    "print('Les vecteurs de base sont du réseau réciproque sont:')\n",
    "print(RecLat)\n",
    "print('Système Cristallin:')\n",
    "print(SystCrist)\n",
    "print('Type de maille:')\n",
    "print(Maille)\n",
    "print('Groupe ponctuel:')\n",
    "print(GroupePonct)"
   ]
  },
  {
   "cell_type": "code",
   "execution_count": null,
   "metadata": {},
   "outputs": [],
   "source": []
  }
 ],
 "metadata": {
  "kernelspec": {
   "display_name": "Python 3",
   "language": "python",
   "name": "python3"
  },
  "language_info": {
   "codemirror_mode": {
    "name": "ipython",
    "version": 3
   },
   "file_extension": ".py",
   "mimetype": "text/x-python",
   "name": "python",
   "nbconvert_exporter": "python",
   "pygments_lexer": "ipython3",
   "version": "3.6.8"
  }
 },
 "nbformat": 4,
 "nbformat_minor": 2
}
